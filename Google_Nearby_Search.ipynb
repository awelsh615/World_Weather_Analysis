{
 "cells": [
  {
   "cell_type": "code",
   "execution_count": 1,
   "source": [
    "# Dependencies and Setup\r\n",
    "import requests\r\n",
    "import gmaps\r\n",
    "\r\n",
    "# Import API key\r\n",
    "from config import g_key"
   ],
   "outputs": [],
   "metadata": {}
  },
  {
   "cell_type": "code",
   "execution_count": 3,
   "source": [
    "# Set the parameters to search for a hotel in Paris.\r\n",
    "params = {\r\n",
    "    \"radius\": 5000,\r\n",
    "    \"types\": \"lodging\",\r\n",
    "    \"key\": g_key,\r\n",
    "    \"location\": \"48.8566, 2.3522\"}\r\n",
    "# Use base URL to search for hotels in Paris.\r\n",
    "base_url = \"https://maps.googleapis.com/maps/api/place/nearbysearch/json\"\r\n",
    "# Make request and get the JSON data from the search.\r\n",
    "hotels = requests.get(base_url, params=params).json()\r\n",
    "\r\n",
    "# hotels"
   ],
   "outputs": [],
   "metadata": {}
  },
  {
   "cell_type": "code",
   "execution_count": 4,
   "source": [
    "len(hotels['results'])"
   ],
   "outputs": [
    {
     "output_type": "execute_result",
     "data": {
      "text/plain": [
       "20"
      ]
     },
     "metadata": {},
     "execution_count": 4
    }
   ],
   "metadata": {}
  },
  {
   "cell_type": "code",
   "execution_count": 6,
   "source": [
    "hotels['results'][0]['name']"
   ],
   "outputs": [
    {
     "output_type": "execute_result",
     "data": {
      "text/plain": [
       "'Hôtel Duo'"
      ]
     },
     "metadata": {},
     "execution_count": 6
    }
   ],
   "metadata": {}
  },
  {
   "cell_type": "code",
   "execution_count": null,
   "source": [],
   "outputs": [],
   "metadata": {}
  }
 ],
 "metadata": {
  "orig_nbformat": 4,
  "language_info": {
   "name": "python"
  }
 },
 "nbformat": 4,
 "nbformat_minor": 2
}