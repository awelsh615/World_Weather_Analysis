{
 "cells": [
  {
   "cell_type": "code",
   "execution_count": 24,
   "source": [
    "# Import the dependencies.\r\n",
    "import pandas as pd\r\n",
    "import matplotlib.pyplot as plt\r\n",
    "import numpy as np\r\n",
    "\r\n",
    "# Import the datetime module from the datetime library.\r\n",
    "from datetime import datetime\r\n",
    "\r\n",
    "# Use the citipy module to determine city based on latitude and longitude.\r\n",
    "from citipy import citipy"
   ],
   "outputs": [],
   "metadata": {}
  },
  {
   "cell_type": "code",
   "execution_count": 25,
   "source": [
    "# Create a new set of 2000 random latitudes and longitudes\r\n",
    "# Create a set of random latitude and longitude combinations.\r\n",
    "lats = np.random.uniform(low=-90.000, high=90.000, size=2000)\r\n",
    "lngs = np.random.uniform(low=-180.000, high=180.000, size=2000)\r\n",
    "# Output is a zip object in memory\r\n",
    "coordinates = zip(lats, lngs)\r\n",
    "coordinates"
   ],
   "outputs": [
    {
     "output_type": "execute_result",
     "data": {
      "text/plain": [
       "<zip at 0x1ac4a25cac0>"
      ]
     },
     "metadata": {},
     "execution_count": 25
    }
   ],
   "metadata": {}
  },
  {
   "cell_type": "code",
   "execution_count": 26,
   "source": [
    "# Get the nearest city using the citipy module\r\n",
    "# Create a list for holding the cities.\r\n",
    "cities = []\r\n",
    "# Identify the nearest city for each latitude and longitude combination.\r\n",
    "for coordinate in coordinates:\r\n",
    "    city = citipy.nearest_city(coordinate[0], coordinate[1]).city_name\r\n",
    "\r\n",
    "    # If the city is unique, then we will add it to the cities list.\r\n",
    "    if city not in cities:\r\n",
    "        cities.append(city)\r\n",
    "# Print the city count to confirm sufficient count.\r\n",
    "len(cities)"
   ],
   "outputs": [
    {
     "output_type": "execute_result",
     "data": {
      "text/plain": [
       "771"
      ]
     },
     "metadata": {},
     "execution_count": 26
    }
   ],
   "metadata": {}
  },
  {
   "cell_type": "code",
   "execution_count": 27,
   "source": [
    "# Perform an AP call with the OpenWeatherMap\r\n",
    "# Import the requests library.\r\n",
    "import requests\r\n",
    "\r\n",
    "# Import the API key.\r\n",
    "from config import weather_api_key\r\n",
    "\r\n",
    "# Starting URL for Weather Map API Call.\r\n",
    "url = \"http://api.openweathermap.org/data/2.5/weather?units=Imperial&APPID=\" + weather_api_key"
   ],
   "outputs": [],
   "metadata": {}
  },
  {
   "cell_type": "code",
   "execution_count": 32,
   "source": [
    "city_data=[]\r\n",
    "\r\n",
    "city_weather = requests.get(city_url).json()\r\n",
    "# Parse out the needed data.\r\n",
    "city_lat = city_weather[\"coord\"][\"lat\"]\r\n",
    "\r\n",
    "city_data.append({\"Latitude\": city_lat})\r\n",
    "\r\n",
    "city_data"
   ],
   "outputs": [
    {
     "output_type": "execute_result",
     "data": {
      "text/plain": [
       "[{'Latitude': 37.4636}]"
      ]
     },
     "metadata": {},
     "execution_count": 32
    }
   ],
   "metadata": {}
  },
  {
   "cell_type": "code",
   "execution_count": 29,
   "source": [
    "# Retrieve the following info from the AP Call:\r\n",
    "# latitude & Longitude\r\n",
    "# max temperature\r\n",
    "# percent humidity\r\n",
    "# percent cloudiness\r\n",
    "# wind Speed \r\n",
    "# weather description (cloud, fog, light rain, etc.)\r\n",
    "\r\n",
    "# Create an empty list to hold the weather data.\r\n",
    "city_data = []\r\n",
    "# Print the beginning of the logging.\r\n",
    "print(\"Beginning Data Retrieval     \")\r\n",
    "print(\"-----------------------------\")\r\n",
    "\r\n",
    "# Create counters.\r\n",
    "record_count = 1\r\n",
    "set_count = 1\r\n",
    "\r\n",
    "# Loop through all the cities in the list.\r\n",
    "for i, city in enumerate(cities):\r\n",
    "\r\n",
    "    # Group cities in sets of 50 for logging purposes.\r\n",
    "    if (i % 50 == 0 and i >= 50):\r\n",
    "        set_count += 1\r\n",
    "        record_count = 1\r\n",
    "    # Create endpoint URL with each city.\r\n",
    "    city_url = url + \"&q=\" + city.replace(\" \",\"+\")\r\n",
    "\r\n",
    "    # Log the URL, record, and set numbers and the city.\r\n",
    "    print(f\"Processing Record {record_count} of Set {set_count} | {city}\")\r\n",
    "    # Add 1 to the record count.\r\n",
    "    record_count += 1\r\n",
    "    # Run an API request for each of the cities.\r\n",
    "    try:\r\n",
    "        # Parse the JSON and retrieve data.\r\n",
    "        city_weather = requests.get(city_url).json()\r\n",
    "        # Parse out the needed data.\r\n",
    "        city_lat = city_weather[\"coord\"][\"lat\"]\r\n",
    "        city_lng = city_weather[\"coord\"][\"lon\"]\r\n",
    "        city_max_temp = city_weather[\"main\"][\"temp_max\"]\r\n",
    "        city_humidity = city_weather[\"main\"][\"humidity\"]\r\n",
    "        city_clouds = city_weather[\"clouds\"][\"all\"]\r\n",
    "        city_wind = city_weather[\"wind\"][\"speed\"]\r\n",
    "        city_country = city_weather[\"sys\"][\"country\"]\r\n",
    "        city_description = city_weather[\"weather\"][\"description\"]\r\n",
    "        # Convert the date to ISO standard.\r\n",
    "        city_date = datetime.utcfromtimestamp(city_weather[\"dt\"]).strftime('%Y-%m-%d %H:%M:%S')\r\n",
    "        # Append the city information into city_data list.\r\n",
    "        city_data.append({\"City\": city.title(),\r\n",
    "                          \"Lat\": city_lat,\r\n",
    "                          \"Lng\": city_lng,\r\n",
    "                          \"Max Temp\": city_max_temp,\r\n",
    "                          \"Humidity\": city_humidity,\r\n",
    "                          \"Cloudiness\": city_clouds,\r\n",
    "                          \"Wind Speed\": city_wind,\r\n",
    "                          \"Country\": city_country,\r\n",
    "                          \"Description\": city_description,\r\n",
    "                          \"Date\": city_date})\r\n",
    "\r\n",
    "# # If an error is experienced, skip the city.\r\n",
    "#     except:\r\n",
    "#         print(\"City not found. Skipping...\")\r\n",
    "#         pass\r\n",
    "\r\n",
    "# # Indicate that Data Loading is complete.\r\n",
    "# print(\"-----------------------------\")\r\n",
    "# print(\"Data Retrieval Complete      \")\r\n",
    "# print(\"-----------------------------\")"
   ],
   "outputs": [
    {
     "output_type": "error",
     "ename": "SyntaxError",
     "evalue": "unexpected EOF while parsing (<ipython-input-29-ba1713cc6ef0>, line 68)",
     "traceback": [
      "\u001b[1;36m  File \u001b[1;32m\"<ipython-input-29-ba1713cc6ef0>\"\u001b[1;36m, line \u001b[1;32m68\u001b[0m\n\u001b[1;33m    # print(\"-----------------------------\")\u001b[0m\n\u001b[1;37m                                            ^\u001b[0m\n\u001b[1;31mSyntaxError\u001b[0m\u001b[1;31m:\u001b[0m unexpected EOF while parsing\n"
     ]
    }
   ],
   "metadata": {}
  },
  {
   "cell_type": "code",
   "execution_count": null,
   "source": [
    "# Add the data to a new dataframe\r\n"
   ],
   "outputs": [],
   "metadata": {}
  },
  {
   "cell_type": "code",
   "execution_count": null,
   "source": [
    "# Export the dataframe as a csv file and save as WeatherPy_Database.csv in this folder"
   ],
   "outputs": [],
   "metadata": {}
  }
 ],
 "metadata": {
  "orig_nbformat": 4,
  "language_info": {
   "name": "python"
  }
 },
 "nbformat": 4,
 "nbformat_minor": 2
}